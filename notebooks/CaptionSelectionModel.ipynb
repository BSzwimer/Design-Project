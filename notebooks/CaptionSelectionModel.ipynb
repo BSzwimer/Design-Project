{
  "nbformat": 4,
  "nbformat_minor": 0,
  "metadata": {
    "colab": {
      "name": "CaptionSelectionModel.ipynb",
      "provenance": [],
      "collapsed_sections": []
    },
    "kernelspec": {
      "name": "python3",
      "display_name": "Python 3"
    },
    "language_info": {
      "name": "python"
    },
    "accelerator": "GPU"
  },
  "cells": [
    {
      "cell_type": "code",
      "metadata": {
        "id": "cVq-ivfsq1t0"
      },
      "source": [
        "import pandas as pd\n",
        "import numpy as np\n",
        "import pickle\n",
        "from sklearn.ensemble import RandomForestClassifier\n",
        "from sklearn.model_selection import train_test_split\n",
        "from sklearn.model_selection import GridSearchCV"
      ],
      "execution_count": null,
      "outputs": []
    },
    {
      "cell_type": "code",
      "metadata": {
        "id": "__nT1vJPw6U0"
      },
      "source": [
        "df = pd.read_csv('AggregateDataLargeLabelled.csv').dropna()"
      ],
      "execution_count": null,
      "outputs": []
    },
    {
      "cell_type": "code",
      "metadata": {
        "colab": {
          "base_uri": "https://localhost:8080/",
          "height": 204
        },
        "id": "t24RTfFGxaJy",
        "outputId": "87c45ae8-8e20-4f64-98f6-cca6f896f131"
      },
      "source": [
        "relevent_data = df.drop('OpenAI', axis=1).drop('Azure', axis=1).drop('Caption', axis=1)\n",
        "relevent_data['Label'] = relevent_data['Label'].apply(lambda x: 0 if x == 1 else 1)\n",
        "relevent_data.head()"
      ],
      "execution_count": null,
      "outputs": [
        {
          "output_type": "execute_result",
          "data": {
            "text/html": [
              "<div>\n",
              "<style scoped>\n",
              "    .dataframe tbody tr th:only-of-type {\n",
              "        vertical-align: middle;\n",
              "    }\n",
              "\n",
              "    .dataframe tbody tr th {\n",
              "        vertical-align: top;\n",
              "    }\n",
              "\n",
              "    .dataframe thead th {\n",
              "        text-align: right;\n",
              "    }\n",
              "</style>\n",
              "<table border=\"1\" class=\"dataframe\">\n",
              "  <thead>\n",
              "    <tr style=\"text-align: right;\">\n",
              "      <th></th>\n",
              "      <th>Label</th>\n",
              "      <th>OpenAI_Conf</th>\n",
              "      <th>OpenAI_Azure_Conf</th>\n",
              "      <th>Azure_Conf</th>\n",
              "      <th>Animal</th>\n",
              "      <th>Building</th>\n",
              "      <th>Indoor</th>\n",
              "      <th>Outdoor</th>\n",
              "      <th>People</th>\n",
              "    </tr>\n",
              "  </thead>\n",
              "  <tbody>\n",
              "    <tr>\n",
              "      <th>0</th>\n",
              "      <td>1</td>\n",
              "      <td>0.2961</td>\n",
              "      <td>0.000210</td>\n",
              "      <td>0.338600</td>\n",
              "      <td>0.0</td>\n",
              "      <td>1.0</td>\n",
              "      <td>0.0</td>\n",
              "      <td>0.0</td>\n",
              "      <td>0.0</td>\n",
              "    </tr>\n",
              "    <tr>\n",
              "      <th>1</th>\n",
              "      <td>1</td>\n",
              "      <td>0.2954</td>\n",
              "      <td>0.000027</td>\n",
              "      <td>0.338996</td>\n",
              "      <td>0.0</td>\n",
              "      <td>1.0</td>\n",
              "      <td>0.0</td>\n",
              "      <td>0.0</td>\n",
              "      <td>0.0</td>\n",
              "    </tr>\n",
              "    <tr>\n",
              "      <th>2</th>\n",
              "      <td>0</td>\n",
              "      <td>0.1941</td>\n",
              "      <td>0.000589</td>\n",
              "      <td>0.995034</td>\n",
              "      <td>0.0</td>\n",
              "      <td>0.0</td>\n",
              "      <td>0.0</td>\n",
              "      <td>1.0</td>\n",
              "      <td>0.0</td>\n",
              "    </tr>\n",
              "    <tr>\n",
              "      <th>3</th>\n",
              "      <td>1</td>\n",
              "      <td>0.3076</td>\n",
              "      <td>0.116760</td>\n",
              "      <td>0.211877</td>\n",
              "      <td>0.0</td>\n",
              "      <td>1.0</td>\n",
              "      <td>0.0</td>\n",
              "      <td>0.0</td>\n",
              "      <td>0.0</td>\n",
              "    </tr>\n",
              "    <tr>\n",
              "      <th>5</th>\n",
              "      <td>0</td>\n",
              "      <td>0.2053</td>\n",
              "      <td>0.007248</td>\n",
              "      <td>0.500465</td>\n",
              "      <td>0.0</td>\n",
              "      <td>1.0</td>\n",
              "      <td>0.0</td>\n",
              "      <td>0.0</td>\n",
              "      <td>0.0</td>\n",
              "    </tr>\n",
              "  </tbody>\n",
              "</table>\n",
              "</div>"
            ],
            "text/plain": [
              "   Label  OpenAI_Conf  OpenAI_Azure_Conf  ...  Indoor  Outdoor  People\n",
              "0      1       0.2961           0.000210  ...     0.0      0.0     0.0\n",
              "1      1       0.2954           0.000027  ...     0.0      0.0     0.0\n",
              "2      0       0.1941           0.000589  ...     0.0      1.0     0.0\n",
              "3      1       0.3076           0.116760  ...     0.0      0.0     0.0\n",
              "5      0       0.2053           0.007248  ...     0.0      0.0     0.0\n",
              "\n",
              "[5 rows x 9 columns]"
            ]
          },
          "metadata": {
            "tags": []
          },
          "execution_count": 75
        }
      ]
    },
    {
      "cell_type": "code",
      "metadata": {
        "colab": {
          "base_uri": "https://localhost:8080/"
        },
        "id": "0IzjL1qOHOpc",
        "outputId": "bbb21f61-67dd-4e45-c944-e4bafabb6b02"
      },
      "source": [
        "print(len(relevent_data.loc[(relevent_data['Label'] == 1) & (relevent_data['Animal'] == 1)])/len(relevent_data.loc[relevent_data['Label'] == 1]))"
      ],
      "execution_count": null,
      "outputs": [
        {
          "output_type": "stream",
          "text": [
            "0.012121212121212121\n"
          ],
          "name": "stdout"
        }
      ]
    },
    {
      "cell_type": "code",
      "metadata": {
        "colab": {
          "base_uri": "https://localhost:8080/"
        },
        "id": "owdKIgROzflB",
        "outputId": "314c987c-88d5-4c6d-a7ee-1fe6384f84dc"
      },
      "source": [
        "\"\"\"\n",
        "Stats about our dataset\n",
        "\"\"\"\n",
        "\n",
        "# 0s vs 1s\n",
        "print(\"0s vs 1s\")\n",
        "print(relevent_data['Label'].value_counts())\n",
        "print(\"\\n\")\n",
        "\n",
        "# Average confidence of OpenAI when 0\n",
        "print(\"Average confidence of OpenAI when 0\")\n",
        "print(sum(relevent_data.loc[relevent_data['Label'] == 0]['OpenAI_Conf'])/len(relevent_data.loc[relevent_data['Label'] == 0]))\n",
        "print(\"\\n\")\n",
        "\n",
        "# Average confidence of Azure when 1\n",
        "print(\"Average confidence of Azure when 1\")\n",
        "print(sum(relevent_data.loc[relevent_data['Label'] == 1]['Azure_Conf'])/len(relevent_data.loc[relevent_data['Label'] == 0]))\n",
        "print(\"\\n\")\n",
        "\n",
        "# Percentage of 1 when animal is when 1\n",
        "print(\"Percentage of 1 when animal is when 1\")\n",
        "print(len(relevent_data.loc[(relevent_data['Label'] == 1) & (relevent_data['Animal'] == 1)])/len(relevent_data.loc[(relevent_data['Label'] == 1)]))\n",
        "print(\"\\n\")\n",
        "\n",
        "# Percentage of 1 when building is when 1\n",
        "print(\"Percentage of 1 when building is when 1\")\n",
        "print(len(relevent_data.loc[(relevent_data['Label'] == 1) & (relevent_data['Building'] == 1)])/len(relevent_data.loc[(relevent_data['Label'] == 1)]))\n",
        "print(\"\\n\")\n",
        "\n",
        "# Percentage of 1 when indoor is when 1\n",
        "print(\"Percentage of 1 when indoor is when 1\")\n",
        "print(len(relevent_data.loc[(relevent_data['Label'] == 1) & (relevent_data['Indoor'] == 1)])/len(relevent_data.loc[(relevent_data['Label'] == 1)]))\n",
        "print(\"\\n\")\n",
        "\n",
        "# Percentage of 1 when outdoor is when 1\n",
        "print(\"Percentage of 1 when outdoor is when 1\")\n",
        "print(len(relevent_data.loc[(relevent_data['Label'] == 1) & (relevent_data['Outdoor'] == 1)])/len(relevent_data.loc[(relevent_data['Label'] == 1)]))\n",
        "print(\"\\n\")\n",
        "\n",
        "# Percentage of 1 when people is when 1\n",
        "print(\"Percentage of 1 when people is when 1\")\n",
        "print(len(relevent_data.loc[(relevent_data['Label'] == 1) & (relevent_data['People'] == 1)])/len(relevent_data.loc[(relevent_data['Label'] == 1)]))\n",
        "print(\"\\n\")\n"
      ],
      "execution_count": null,
      "outputs": [
        {
          "output_type": "stream",
          "text": [
            "0s vs 1s\n",
            "0    336\n",
            "1    165\n",
            "Name: Label, dtype: int64\n",
            "\n",
            "\n",
            "Average confidence of OpenAI when 0\n",
            "0.4896425595238093\n",
            "\n",
            "\n",
            "Average confidence of Azure when 1\n",
            "0.21398327290922617\n",
            "\n",
            "\n",
            "Percentage of 1 when animal is when 1\n",
            "0.012121212121212121\n",
            "\n",
            "\n",
            "Percentage of 1 when building is when 1\n",
            "0.12727272727272726\n",
            "\n",
            "\n",
            "Percentage of 1 when indoor is when 1\n",
            "0.0\n",
            "\n",
            "\n",
            "Percentage of 1 when outdoor is when 1\n",
            "0.4121212121212121\n",
            "\n",
            "\n",
            "Percentage of 1 when people is when 1\n",
            "0.18181818181818182\n",
            "\n",
            "\n"
          ],
          "name": "stdout"
        }
      ]
    },
    {
      "cell_type": "code",
      "metadata": {
        "id": "cFpCQkP01QFl"
      },
      "source": [
        "relevent_data = relevent_data.to_numpy()"
      ],
      "execution_count": null,
      "outputs": []
    },
    {
      "cell_type": "code",
      "metadata": {
        "id": "NlLRap031RG8"
      },
      "source": [
        "y = relevent_data[:, 0]\n",
        "X = relevent_data[:, 1:]"
      ],
      "execution_count": null,
      "outputs": []
    },
    {
      "cell_type": "code",
      "metadata": {
        "colab": {
          "base_uri": "https://localhost:8080/"
        },
        "id": "Tpc9f-YBxBLN",
        "outputId": "870ef468-20b9-43a3-c7b4-8001db67b7c1"
      },
      "source": [
        "X_train, X_test, y_train, y_test = train_test_split(X, y, test_size=0.1, random_state=0)\n",
        "\n",
        "base_estimator = RandomForestClassifier(random_state=0)\n",
        "parameters = {\n",
        "  'n_estimators':[10,20,30,50,100,150,200,250,500,1000], \n",
        "  'max_depth':[1, 10],\n",
        "  'max_depth': [3, 5, 10, 25, 50],\n",
        "  'min_samples_split': [2, 5, 10, 25, 50]\n",
        "}\n",
        "search = GridSearchCV(base_estimator, parameters, cv=5)\n",
        "search.fit(X, y)"
      ],
      "execution_count": null,
      "outputs": [
        {
          "output_type": "execute_result",
          "data": {
            "text/plain": [
              "GridSearchCV(cv=5, error_score=nan,\n",
              "             estimator=RandomForestClassifier(bootstrap=True, ccp_alpha=0.0,\n",
              "                                              class_weight=None,\n",
              "                                              criterion='gini', max_depth=None,\n",
              "                                              max_features='auto',\n",
              "                                              max_leaf_nodes=None,\n",
              "                                              max_samples=None,\n",
              "                                              min_impurity_decrease=0.0,\n",
              "                                              min_impurity_split=None,\n",
              "                                              min_samples_leaf=1,\n",
              "                                              min_samples_split=2,\n",
              "                                              min_weight_fraction_leaf=0.0,\n",
              "                                              n_estimators=100, n_jobs=None,\n",
              "                                              oob_score=False, random_state=0,\n",
              "                                              verbose=0, warm_start=False),\n",
              "             iid='deprecated', n_jobs=None,\n",
              "             param_grid={'max_depth': [3, 5, 10, 25, 50],\n",
              "                         'min_samples_split': [2, 5, 10, 25, 50],\n",
              "                         'n_estimators': [10, 20, 30, 50, 100, 150, 200, 250,\n",
              "                                          500, 1000]},\n",
              "             pre_dispatch='2*n_jobs', refit=True, return_train_score=False,\n",
              "             scoring=None, verbose=0)"
            ]
          },
          "metadata": {
            "tags": []
          },
          "execution_count": 32
        }
      ]
    },
    {
      "cell_type": "code",
      "metadata": {
        "id": "iW4sAmFR5oeL"
      },
      "source": [
        "model = search.best_estimator_"
      ],
      "execution_count": null,
      "outputs": []
    },
    {
      "cell_type": "code",
      "metadata": {
        "colab": {
          "base_uri": "https://localhost:8080/"
        },
        "id": "F04BUTAx89ns",
        "outputId": "f7478a2c-b260-4e07-f224-3a6c614154a2"
      },
      "source": [
        "model.score(X_test, y_test)"
      ],
      "execution_count": null,
      "outputs": [
        {
          "output_type": "execute_result",
          "data": {
            "text/plain": [
              "0.7058823529411765"
            ]
          },
          "metadata": {
            "tags": []
          },
          "execution_count": 35
        }
      ]
    },
    {
      "cell_type": "code",
      "metadata": {
        "id": "phHzBaQJ9G0D"
      },
      "source": [
        "zeros = [1 if d == 0 else 0 for d in y_test]"
      ],
      "execution_count": null,
      "outputs": []
    },
    {
      "cell_type": "code",
      "metadata": {
        "id": "MXllQxDt9n-V"
      },
      "source": [
        "y_pred = model.predict(X_test)"
      ],
      "execution_count": null,
      "outputs": []
    },
    {
      "cell_type": "code",
      "metadata": {
        "colab": {
          "base_uri": "https://localhost:8080/"
        },
        "id": "9AWLhn_W-UTS",
        "outputId": "bf817d49-34c7-4185-e311-03e4ad867e93"
      },
      "source": [
        "y_pred"
      ],
      "execution_count": null,
      "outputs": [
        {
          "output_type": "execute_result",
          "data": {
            "text/plain": [
              "array([1., 1., 0., 0., 0., 1., 0., 1., 0., 0., 0., 1., 0., 0., 0., 0., 0.,\n",
              "       0., 0., 0., 0., 0., 0., 0., 0., 0., 1., 0., 0., 0., 1., 0., 1., 0.,\n",
              "       0., 0., 0., 0., 0., 0., 0., 0., 0., 0., 0., 0., 0., 0., 0., 0., 0.])"
            ]
          },
          "metadata": {
            "tags": []
          },
          "execution_count": 47
        }
      ]
    },
    {
      "cell_type": "code",
      "metadata": {
        "colab": {
          "base_uri": "https://localhost:8080/"
        },
        "id": "-HWVVFjk-VKD",
        "outputId": "cc961d70-b909-4d7e-8bc4-bbdd2c72a067"
      },
      "source": [
        "X_test"
      ],
      "execution_count": null,
      "outputs": [
        {
          "output_type": "execute_result",
          "data": {
            "text/plain": [
              "array([[2.55900000e-01, 1.32700000e-01, 4.02824193e-01, 0.00000000e+00,\n",
              "        0.00000000e+00, 0.00000000e+00, 0.00000000e+00, 1.00000000e+00],\n",
              "       [3.06400000e-01, 3.06400000e-01, 5.22666872e-01, 0.00000000e+00,\n",
              "        0.00000000e+00, 0.00000000e+00, 0.00000000e+00, 1.00000000e+00],\n",
              "       [7.45000000e-01, 2.40000000e-05, 3.30100030e-01, 0.00000000e+00,\n",
              "        0.00000000e+00, 0.00000000e+00, 1.00000000e+00, 0.00000000e+00],\n",
              "       [5.79000000e-01, 3.13400000e-03, 3.75661731e-01, 0.00000000e+00,\n",
              "        0.00000000e+00, 0.00000000e+00, 0.00000000e+00, 0.00000000e+00],\n",
              "       [5.87400000e-01, 6.13000000e-03, 2.12117642e-01, 0.00000000e+00,\n",
              "        0.00000000e+00, 0.00000000e+00, 1.00000000e+00, 0.00000000e+00],\n",
              "       [7.18800000e-01, 1.82800000e-02, 4.64414895e-01, 0.00000000e+00,\n",
              "        0.00000000e+00, 0.00000000e+00, 0.00000000e+00, 0.00000000e+00],\n",
              "       [2.62700000e-01, 2.51000000e-04, 5.38805127e-01, 0.00000000e+00,\n",
              "        0.00000000e+00, 0.00000000e+00, 0.00000000e+00, 0.00000000e+00],\n",
              "       [2.97900000e-01, 2.97900000e-01, 5.71461558e-01, 0.00000000e+00,\n",
              "        0.00000000e+00, 0.00000000e+00, 0.00000000e+00, 1.00000000e+00],\n",
              "       [8.28000000e-01, 5.14000000e-05, 2.85720795e-01, 0.00000000e+00,\n",
              "        1.00000000e+00, 0.00000000e+00, 1.00000000e+00, 0.00000000e+00],\n",
              "       [4.92200000e-01, 3.06700000e-03, 4.02629256e-01, 0.00000000e+00,\n",
              "        0.00000000e+00, 0.00000000e+00, 0.00000000e+00, 0.00000000e+00],\n",
              "       [4.15800000e-01, 2.03700000e-02, 3.63062114e-01, 0.00000000e+00,\n",
              "        0.00000000e+00, 0.00000000e+00, 0.00000000e+00, 0.00000000e+00],\n",
              "       [1.48700000e-01, 1.03760000e-01, 3.09813917e-01, 0.00000000e+00,\n",
              "        1.00000000e+00, 0.00000000e+00, 1.00000000e+00, 0.00000000e+00],\n",
              "       [2.29900000e-01, 2.35000000e-05, 3.11743319e-01, 0.00000000e+00,\n",
              "        0.00000000e+00, 0.00000000e+00, 1.00000000e+00, 0.00000000e+00],\n",
              "       [1.77100000e-01, 2.36000000e-02, 4.50552165e-01, 0.00000000e+00,\n",
              "        0.00000000e+00, 0.00000000e+00, 0.00000000e+00, 0.00000000e+00],\n",
              "       [6.94300000e-01, 1.09000000e-05, 3.20209146e-01, 0.00000000e+00,\n",
              "        0.00000000e+00, 0.00000000e+00, 1.00000000e+00, 0.00000000e+00],\n",
              "       [4.35500000e-01, 5.57000000e-03, 4.91247058e-01, 0.00000000e+00,\n",
              "        0.00000000e+00, 0.00000000e+00, 1.00000000e+00, 0.00000000e+00],\n",
              "       [2.73400000e-01, 8.40000000e-06, 5.26481271e-01, 0.00000000e+00,\n",
              "        0.00000000e+00, 0.00000000e+00, 1.00000000e+00, 0.00000000e+00],\n",
              "       [4.51400000e-01, 1.99500000e-03, 3.71347100e-01, 0.00000000e+00,\n",
              "        0.00000000e+00, 0.00000000e+00, 0.00000000e+00, 0.00000000e+00],\n",
              "       [6.71400000e-01, 5.97000000e-05, 2.40490705e-01, 0.00000000e+00,\n",
              "        0.00000000e+00, 0.00000000e+00, 1.00000000e+00, 0.00000000e+00],\n",
              "       [7.39000000e-01, 4.90000000e-03, 3.24009121e-01, 0.00000000e+00,\n",
              "        0.00000000e+00, 0.00000000e+00, 1.00000000e+00, 0.00000000e+00],\n",
              "       [5.98600000e-01, 1.84600000e-03, 5.10599852e-01, 0.00000000e+00,\n",
              "        0.00000000e+00, 0.00000000e+00, 1.00000000e+00, 0.00000000e+00],\n",
              "       [8.36400000e-01, 1.20100000e-03, 5.24772286e-01, 0.00000000e+00,\n",
              "        0.00000000e+00, 0.00000000e+00, 1.00000000e+00, 0.00000000e+00],\n",
              "       [6.17700000e-01, 1.23000000e-03, 5.62801301e-01, 0.00000000e+00,\n",
              "        0.00000000e+00, 0.00000000e+00, 0.00000000e+00, 1.00000000e+00],\n",
              "       [8.44700000e-01, 1.00000000e-05, 2.87493676e-01, 0.00000000e+00,\n",
              "        0.00000000e+00, 0.00000000e+00, 0.00000000e+00, 0.00000000e+00],\n",
              "       [3.97200000e-01, 1.13300000e-03, 4.15818334e-01, 0.00000000e+00,\n",
              "        0.00000000e+00, 0.00000000e+00, 0.00000000e+00, 0.00000000e+00],\n",
              "       [8.43800000e-01, 2.98000000e-05, 4.64594126e-01, 0.00000000e+00,\n",
              "        0.00000000e+00, 0.00000000e+00, 0.00000000e+00, 0.00000000e+00],\n",
              "       [7.74400000e-01, 2.26600000e-02, 4.91738409e-01, 1.00000000e+00,\n",
              "        0.00000000e+00, 0.00000000e+00, 0.00000000e+00, 0.00000000e+00],\n",
              "       [3.15200000e-01, 1.22000000e-05, 4.45840418e-01, 0.00000000e+00,\n",
              "        1.00000000e+00, 0.00000000e+00, 1.00000000e+00, 0.00000000e+00],\n",
              "       [1.53100000e-01, 2.03100000e-04, 3.58566612e-01, 0.00000000e+00,\n",
              "        0.00000000e+00, 0.00000000e+00, 1.00000000e+00, 0.00000000e+00],\n",
              "       [1.98400000e-01, 3.39400000e-02, 4.80477750e-01, 0.00000000e+00,\n",
              "        0.00000000e+00, 0.00000000e+00, 0.00000000e+00, 0.00000000e+00],\n",
              "       [2.73700000e-01, 2.02600000e-03, 4.16986585e-01, 0.00000000e+00,\n",
              "        0.00000000e+00, 0.00000000e+00, 0.00000000e+00, 1.00000000e+00],\n",
              "       [3.05000000e-01, 3.05000000e-01, 4.64819908e-01, 0.00000000e+00,\n",
              "        0.00000000e+00, 0.00000000e+00, 0.00000000e+00, 0.00000000e+00],\n",
              "       [6.51400000e-01, 1.03100000e-01, 5.84880888e-01, 0.00000000e+00,\n",
              "        0.00000000e+00, 0.00000000e+00, 0.00000000e+00, 0.00000000e+00],\n",
              "       [4.99000000e-01, 6.54000000e-02, 5.22294939e-01, 0.00000000e+00,\n",
              "        0.00000000e+00, 0.00000000e+00, 1.00000000e+00, 0.00000000e+00],\n",
              "       [4.55800000e-01, 1.88100000e-02, 3.62492293e-01, 0.00000000e+00,\n",
              "        1.00000000e+00, 0.00000000e+00, 0.00000000e+00, 0.00000000e+00],\n",
              "       [7.00000000e-01, 1.69200000e-04, 3.91719610e-01, 0.00000000e+00,\n",
              "        0.00000000e+00, 0.00000000e+00, 1.00000000e+00, 0.00000000e+00],\n",
              "       [1.94100000e-01, 5.89400000e-04, 9.95033562e-01, 0.00000000e+00,\n",
              "        0.00000000e+00, 0.00000000e+00, 1.00000000e+00, 0.00000000e+00],\n",
              "       [4.87800000e-01, 2.80000000e-06, 2.16790423e-01, 0.00000000e+00,\n",
              "        0.00000000e+00, 0.00000000e+00, 0.00000000e+00, 0.00000000e+00],\n",
              "       [2.39000000e-01, 3.00000000e-07, 3.51360202e-01, 0.00000000e+00,\n",
              "        0.00000000e+00, 0.00000000e+00, 0.00000000e+00, 0.00000000e+00],\n",
              "       [3.75500000e-01, 2.55600000e-02, 3.95673007e-01, 0.00000000e+00,\n",
              "        0.00000000e+00, 0.00000000e+00, 1.00000000e+00, 0.00000000e+00],\n",
              "       [6.31000000e-01, 1.19250000e-02, 3.98079306e-01, 0.00000000e+00,\n",
              "        0.00000000e+00, 0.00000000e+00, 0.00000000e+00, 0.00000000e+00],\n",
              "       [5.54700000e-01, 9.02000000e-04, 9.99972105e-01, 0.00000000e+00,\n",
              "        0.00000000e+00, 0.00000000e+00, 0.00000000e+00, 0.00000000e+00],\n",
              "       [8.24000000e-01, 5.18800000e-02, 2.48067081e-01, 0.00000000e+00,\n",
              "        1.00000000e+00, 0.00000000e+00, 1.00000000e+00, 0.00000000e+00],\n",
              "       [2.02500000e-01, 5.96000000e-04, 3.90633315e-01, 0.00000000e+00,\n",
              "        0.00000000e+00, 0.00000000e+00, 1.00000000e+00, 0.00000000e+00],\n",
              "       [6.41600000e-01, 5.94000000e-04, 5.63016474e-01, 0.00000000e+00,\n",
              "        0.00000000e+00, 0.00000000e+00, 1.00000000e+00, 0.00000000e+00],\n",
              "       [3.54200000e-01, 6.63000000e-04, 4.78371382e-01, 1.00000000e+00,\n",
              "        0.00000000e+00, 0.00000000e+00, 0.00000000e+00, 0.00000000e+00],\n",
              "       [2.72000000e-01, 4.87700000e-02, 4.14836079e-01, 0.00000000e+00,\n",
              "        0.00000000e+00, 0.00000000e+00, 0.00000000e+00, 0.00000000e+00],\n",
              "       [2.69500000e-01, 5.57000000e-05, 3.46487582e-01, 0.00000000e+00,\n",
              "        0.00000000e+00, 0.00000000e+00, 0.00000000e+00, 0.00000000e+00],\n",
              "       [5.43000000e-01, 2.21000000e-05, 5.77543676e-01, 0.00000000e+00,\n",
              "        0.00000000e+00, 0.00000000e+00, 0.00000000e+00, 0.00000000e+00],\n",
              "       [2.96100000e-01, 2.10400000e-04, 3.38600486e-01, 0.00000000e+00,\n",
              "        1.00000000e+00, 0.00000000e+00, 0.00000000e+00, 0.00000000e+00],\n",
              "       [2.96100000e-01, 2.90300000e-03, 2.57503182e-01, 0.00000000e+00,\n",
              "        0.00000000e+00, 0.00000000e+00, 1.00000000e+00, 0.00000000e+00]])"
            ]
          },
          "metadata": {
            "tags": []
          },
          "execution_count": 48
        }
      ]
    },
    {
      "cell_type": "code",
      "metadata": {
        "id": "Yvydx_9n-V_8"
      },
      "source": [
        "d = {'OpenAI': [], 'Azure': [], 'Caption': [], 'Label':[], 'Pred':[]}\n",
        "pref_df = pd.DataFrame(data=d)\n",
        "\n",
        "for row, y in zip(X_test,y_pred):\n",
        "  dataframe_row = df.loc[(df['OpenAI_Conf'] == row[0]) & (df['OpenAI_Azure_Conf'] == row[1]) & (df['Azure_Conf'] == row[2])]\n",
        "  df2 = pd.DataFrame(\n",
        "      [[dataframe_row['OpenAI'], dataframe_row['Azure'], dataframe_row['Caption'], dataframe_row['Label'], y]], \n",
        "      columns=['OpenAI', 'Azure', 'Caption', 'Label', 'Pred']\n",
        "  )\n",
        "  pref_df = pref_df.append(df2)"
      ],
      "execution_count": null,
      "outputs": []
    },
    {
      "cell_type": "code",
      "metadata": {
        "colab": {
          "base_uri": "https://localhost:8080/",
          "height": 289
        },
        "id": "7gCWM0tLEvcp",
        "outputId": "4ac7e90e-252f-45ce-b5eb-0d24f9f8ddc7"
      },
      "source": [
        "pref_df.head()"
      ],
      "execution_count": null,
      "outputs": [
        {
          "output_type": "execute_result",
          "data": {
            "text/html": [
              "<div>\n",
              "<style scoped>\n",
              "    .dataframe tbody tr th:only-of-type {\n",
              "        vertical-align: middle;\n",
              "    }\n",
              "\n",
              "    .dataframe tbody tr th {\n",
              "        vertical-align: top;\n",
              "    }\n",
              "\n",
              "    .dataframe thead th {\n",
              "        text-align: right;\n",
              "    }\n",
              "</style>\n",
              "<table border=\"1\" class=\"dataframe\">\n",
              "  <thead>\n",
              "    <tr style=\"text-align: right;\">\n",
              "      <th></th>\n",
              "      <th>OpenAI</th>\n",
              "      <th>Azure</th>\n",
              "      <th>Caption</th>\n",
              "      <th>Label</th>\n",
              "      <th>Pred</th>\n",
              "    </tr>\n",
              "  </thead>\n",
              "  <tbody>\n",
              "    <tr>\n",
              "      <th>0</th>\n",
              "      <td>173    [84] Its approval by Congress became a ...</td>\n",
              "      <td>173    a man speaking to a man\n",
              "Name: Azure, dt...</td>\n",
              "      <td>173     Following the 1966 smog, air-pollution...</td>\n",
              "      <td>173    1.0\n",
              "Name: Label, dtype: float64</td>\n",
              "      <td>1.0</td>\n",
              "    </tr>\n",
              "    <tr>\n",
              "      <th>0</th>\n",
              "      <td>274    Kalki Koechlin smiling for the camera\n",
              "N...</td>\n",
              "      <td>274    Kalki Koechlin smiling for the camera\n",
              "N...</td>\n",
              "      <td>274     Koechlin's performance was acclaimed, ...</td>\n",
              "      <td>274    2.0\n",
              "Name: Label, dtype: float64</td>\n",
              "      <td>1.0</td>\n",
              "    </tr>\n",
              "    <tr>\n",
              "      <th>0</th>\n",
              "      <td>492    [77] It is estimated that a third of al...</td>\n",
              "      <td>492    a snake in the dirt\n",
              "Name: Azure, dtype:...</td>\n",
              "      <td>492    Polyporus squamosus\n",
              "Name: Caption, dtyp...</td>\n",
              "      <td>492    1.0\n",
              "Name: Label, dtype: float64</td>\n",
              "      <td>0.0</td>\n",
              "    </tr>\n",
              "    <tr>\n",
              "      <th>0</th>\n",
              "      <td>72    Mill Creek continues east through the Me...</td>\n",
              "      <td>72    a river with trees and grass around it\n",
              "N...</td>\n",
              "      <td>72    Mill Creek near Junction\n",
              "Name: Caption, ...</td>\n",
              "      <td>72    1.0\n",
              "Name: Label, dtype: float64</td>\n",
              "      <td>0.0</td>\n",
              "    </tr>\n",
              "    <tr>\n",
              "      <th>0</th>\n",
              "      <td>453    Khenut and Nebet were buried in a doubl...</td>\n",
              "      <td>453    a large stone structure\n",
              "Name: Azure, dt...</td>\n",
              "      <td>453    Remains of the outer casing on Unas's p...</td>\n",
              "      <td>453    1.0\n",
              "Name: Label, dtype: float64</td>\n",
              "      <td>0.0</td>\n",
              "    </tr>\n",
              "  </tbody>\n",
              "</table>\n",
              "</div>"
            ],
            "text/plain": [
              "                                              OpenAI  ... Pred\n",
              "0  173    [84] Its approval by Congress became a ...  ...  1.0\n",
              "0  274    Kalki Koechlin smiling for the camera\n",
              "N...  ...  1.0\n",
              "0  492    [77] It is estimated that a third of al...  ...  0.0\n",
              "0  72    Mill Creek continues east through the Me...  ...  0.0\n",
              "0  453    Khenut and Nebet were buried in a doubl...  ...  0.0\n",
              "\n",
              "[5 rows x 5 columns]"
            ]
          },
          "metadata": {
            "tags": []
          },
          "execution_count": 84
        }
      ]
    },
    {
      "cell_type": "code",
      "metadata": {
        "id": "uqKqloJsI9ZD"
      },
      "source": [
        "df.to_csv('predictions.csv')"
      ],
      "execution_count": null,
      "outputs": []
    },
    {
      "cell_type": "code",
      "metadata": {
        "colab": {
          "base_uri": "https://localhost:8080/"
        },
        "id": "sDiEsexnCmyO",
        "outputId": "35221e70-75d3-4bff-b581-a3fd37ebfe6d"
      },
      "source": [
        "model.predict([[0.3577, 0.01926, 0.432734876871109, 0,0,0,0,1]])"
      ],
      "execution_count": null,
      "outputs": [
        {
          "output_type": "execute_result",
          "data": {
            "text/plain": [
              "array([1.])"
            ]
          },
          "metadata": {
            "tags": []
          },
          "execution_count": 95
        }
      ]
    },
    {
      "cell_type": "code",
      "metadata": {
        "id": "dPUBAwL8MZD8"
      },
      "source": [
        "pickle.dump(model, open('finalized_model.sav', 'wb'))"
      ],
      "execution_count": null,
      "outputs": []
    },
    {
      "cell_type": "code",
      "metadata": {
        "id": "DDNac8jBMmW-"
      },
      "source": [
        ""
      ],
      "execution_count": null,
      "outputs": []
    }
  ]
}